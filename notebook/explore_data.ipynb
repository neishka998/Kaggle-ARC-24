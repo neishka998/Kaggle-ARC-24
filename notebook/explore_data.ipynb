{
 "cells": [
  {
   "cell_type": "code",
   "execution_count": 18,
   "metadata": {},
   "outputs": [],
   "source": [
    "from einops import rearrange\n",
    "from kaggle_arc_24.dataset import Arc24Dataset\n",
    "import numpy as np\n",
    "import albumentations as A\n",
    "import matplotlib.pyplot as plt\n",
    "import cv2"
   ]
  },
  {
   "cell_type": "code",
   "execution_count": 19,
   "metadata": {},
   "outputs": [
    {
     "data": {
      "application/vnd.jupyter.widget-view+json": {
       "model_id": "cd122f35bd8c4356a8351105a68e664a",
       "version_major": 2,
       "version_minor": 0
      },
      "text/plain": [
       "  0%|          | 0/400 [00:00<?, ?it/s]"
      ]
     },
     "metadata": {},
     "output_type": "display_data"
    },
    {
     "data": {
      "application/vnd.jupyter.widget-view+json": {
       "model_id": "6879f65e757641e4bfdd97222913c753",
       "version_major": 2,
       "version_minor": 0
      },
      "text/plain": [
       "  0%|          | 0/400 [00:00<?, ?it/s]"
      ]
     },
     "metadata": {},
     "output_type": "display_data"
    }
   ],
   "source": [
    "train_dataset = Arc24Dataset(\n",
    "    data_path=r'C:\\Users\\tommy\\Developer\\Kaggle-ARC-24\\arc-prize-2024\\arc-agi_training_challenges.json',\n",
    "    solution_path=r'C:\\Users\\tommy\\Developer\\Kaggle-ARC-24\\arc-prize-2024\\arc-agi_training_solutions.json'\n",
    ")\n",
    "\n",
    "val_dataset = Arc24Dataset(\n",
    "    data_path=r'C:\\Users\\tommy\\Developer\\Kaggle-ARC-24\\arc-prize-2024\\arc-agi_evaluation_challenges.json',\n",
    "    solution_path=r'C:\\Users\\tommy\\Developer\\Kaggle-ARC-24\\arc-prize-2024\\arc-agi_evaluation_solutions.json'\n",
    ")"
   ]
  },
  {
   "cell_type": "code",
   "execution_count": 56,
   "metadata": {},
   "outputs": [],
   "source": [
    "max_n_el = 0\n",
    "min= float('inf')\n",
    "pad_if_needed = A.PadIfNeeded(30, 30, border_mode=cv2.BORDER_CONSTANT, value=0)\n",
    "\n",
    "for idx, r in train_dataset.df.iterrows():\n",
    "    train_input = r.train_input\n",
    "\n",
    "    n_samples = len(train_input)\n",
    "    tasks = np.zeros((n_samples, 30, 30))\n",
    "    for n in range(n_samples):\n",
    "        sample = train_input[n]\n",
    "        task = np.array(sample)\n",
    "        task = pad_if_needed(image=task)['image']\n",
    "        tasks[n] = task\n",
    "\n",
    "    n_empty_tasks_to_add = 10 - n_samples\n",
    "\n",
    "    if n_empty_tasks_to_add > 0:\n",
    "        pad_tasks = np.zeros((n_empty_tasks_to_add, 30, 30))\n",
    "        tasks = np.concatenate((tasks, pad_tasks))\n",
    "    assert tasks.shape[0] == 10"
   ]
  },
  {
   "cell_type": "code",
   "execution_count": 54,
   "metadata": {},
   "outputs": [
    {
     "data": {
      "text/plain": [
       "(10, 30, 30)"
      ]
     },
     "execution_count": 54,
     "metadata": {},
     "output_type": "execute_result"
    }
   ],
   "source": [
    "tasks.shape"
   ]
  },
  {
   "cell_type": "code",
   "execution_count": 52,
   "metadata": {},
   "outputs": [
    {
     "data": {
      "text/plain": [
       "<matplotlib.image.AxesImage at 0x27381665100>"
      ]
     },
     "execution_count": 52,
     "metadata": {},
     "output_type": "execute_result"
    },
    {
     "data": {
      "image/png": "[encoded data removed]",
      "text/plain": [
       "<Figure size 640x480 with 1 Axes>"
      ]
     },
     "metadata": {},
     "output_type": "display_data"
    }
   ],
   "source": [
    "plt.imshow(tasks[-1])"
   ]
  },
  {
   "cell_type": "code",
   "execution_count": null,
   "metadata": {},
   "outputs": [],
   "source": [
    "# we can see that there are at least 2 task per mini-challenge and at most 10 tasks. Each train_input task has its own correspective train_output.\n",
    "# we also know that the min dimension is 1x1 and the max is 30x30.\n",
    "# with this knowledge we can build a Dataset that returns batches of data of shape [N, 10, 30, 30]. We have to apply some preprocessing to the data, specifically padding width and height if the dimension is smaller than 30x30."
   ]
  }
 ],
 "metadata": {
  "kernelspec": {
   "display_name": "kaggle-arc-2024",
   "language": "python",
   "name": "python3"
  },
  "language_info": {
   "codemirror_mode": {
    "name": "ipython",
    "version": 3
   },
   "file_extension": ".py",
   "mimetype": "text/x-python",
   "name": "python",
   "nbconvert_exporter": "python",
   "pygments_lexer": "ipython3",
   "version": "3.12.4"
  }
 },
 "nbformat": 4,
 "nbformat_minor": 2
}
